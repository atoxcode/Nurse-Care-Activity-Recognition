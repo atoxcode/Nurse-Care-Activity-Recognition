{
 "cells": [
  {
   "cell_type": "markdown",
   "metadata": {
    "id": "d8b03pM_x9bZ"
   },
   "source": [
    "#Data Loading"
   ]
  },
  {
   "cell_type": "code",
   "execution_count": 24,
   "metadata": {
    "executionInfo": {
     "elapsed": 549,
     "status": "ok",
     "timestamp": 1638862726969,
     "user": {
      "displayName": "Nhật Tân Lê",
      "photoUrl": "https://lh3.googleusercontent.com/a/default-user=s64",
      "userId": "10252455260261302381"
     },
     "user_tz": -540
    },
    "id": "46om-vjbwCX3"
   },
   "outputs": [],
   "source": [
    "import pandas as pd\n",
    "import numpy as np"
   ]
  },
  {
   "cell_type": "code",
   "execution_count": 3,
   "metadata": {
    "colab": {
     "base_uri": "https://localhost:8080/",
     "height": 206
    },
    "executionInfo": {
     "elapsed": 475,
     "status": "ok",
     "timestamp": 1638861821590,
     "user": {
      "displayName": "Nhật Tân Lê",
      "photoUrl": "https://lh3.googleusercontent.com/a/default-user=s64",
      "userId": "10252455260261302381"
     },
     "user_tz": -540
    },
    "id": "vqCbVse1xXn-",
    "outputId": "880ec3e0-d9ee-45da-efb1-ab6806ad8a7e"
   },
   "outputs": [
    {
     "data": {
      "text/html": [
       "<div>\n",
       "<style scoped>\n",
       "    .dataframe tbody tr th:only-of-type {\n",
       "        vertical-align: middle;\n",
       "    }\n",
       "\n",
       "    .dataframe tbody tr th {\n",
       "        vertical-align: top;\n",
       "    }\n",
       "\n",
       "    .dataframe thead th {\n",
       "        text-align: right;\n",
       "    }\n",
       "</style>\n",
       "<table border=\"1\" class=\"dataframe\">\n",
       "  <thead>\n",
       "    <tr style=\"text-align: right;\">\n",
       "      <th></th>\n",
       "      <th>segment_id</th>\n",
       "      <th>time_elapsed</th>\n",
       "      <th>x</th>\n",
       "      <th>y</th>\n",
       "      <th>z</th>\n",
       "    </tr>\n",
       "  </thead>\n",
       "  <tbody>\n",
       "    <tr>\n",
       "      <th>0</th>\n",
       "      <td>0.0</td>\n",
       "      <td>0.006</td>\n",
       "      <td>-2.681</td>\n",
       "      <td>-9.423</td>\n",
       "      <td>0.025</td>\n",
       "    </tr>\n",
       "    <tr>\n",
       "      <th>1</th>\n",
       "      <td>0.0</td>\n",
       "      <td>0.826</td>\n",
       "      <td>-2.604</td>\n",
       "      <td>-9.423</td>\n",
       "      <td>0.029</td>\n",
       "    </tr>\n",
       "    <tr>\n",
       "      <th>2</th>\n",
       "      <td>0.0</td>\n",
       "      <td>2.036</td>\n",
       "      <td>-2.988</td>\n",
       "      <td>-9.079</td>\n",
       "      <td>0.237</td>\n",
       "    </tr>\n",
       "    <tr>\n",
       "      <th>3</th>\n",
       "      <td>0.0</td>\n",
       "      <td>2.046</td>\n",
       "      <td>-2.988</td>\n",
       "      <td>-9.079</td>\n",
       "      <td>0.237</td>\n",
       "    </tr>\n",
       "    <tr>\n",
       "      <th>4</th>\n",
       "      <td>0.0</td>\n",
       "      <td>2.236</td>\n",
       "      <td>-2.566</td>\n",
       "      <td>-8.581</td>\n",
       "      <td>0.243</td>\n",
       "    </tr>\n",
       "  </tbody>\n",
       "</table>\n",
       "</div>"
      ],
      "text/plain": [
       "   segment_id  time_elapsed      x      y      z\n",
       "0         0.0         0.006 -2.681 -9.423  0.025\n",
       "1         0.0         0.826 -2.604 -9.423  0.029\n",
       "2         0.0         2.036 -2.988 -9.079  0.237\n",
       "3         0.0         2.046 -2.988 -9.079  0.237\n",
       "4         0.0         2.236 -2.566 -8.581  0.243"
      ]
     },
     "execution_count": 3,
     "metadata": {},
     "output_type": "execute_result"
    }
   ],
   "source": [
    "df_train = pd.read_csv('/content/drive/MyDrive/Research/Challenge 2021/IC-late-2021/Dataset/accelerometer_train.csv')\n",
    "df_train.head(5)"
   ]
  },
  {
   "cell_type": "code",
   "execution_count": 5,
   "metadata": {
    "colab": {
     "base_uri": "https://localhost:8080/",
     "height": 206
    },
    "executionInfo": {
     "elapsed": 558,
     "status": "ok",
     "timestamp": 1638861858454,
     "user": {
      "displayName": "Nhật Tân Lê",
      "photoUrl": "https://lh3.googleusercontent.com/a/default-user=s64",
      "userId": "10252455260261302381"
     },
     "user_tz": -540
    },
    "id": "iHRbnuUwxvwL",
    "outputId": "d110faab-9b46-468e-95a9-f21acb3289e2"
   },
   "outputs": [
    {
     "data": {
      "text/html": [
       "<div>\n",
       "<style scoped>\n",
       "    .dataframe tbody tr th:only-of-type {\n",
       "        vertical-align: middle;\n",
       "    }\n",
       "\n",
       "    .dataframe tbody tr th {\n",
       "        vertical-align: top;\n",
       "    }\n",
       "\n",
       "    .dataframe thead th {\n",
       "        text-align: right;\n",
       "    }\n",
       "</style>\n",
       "<table border=\"1\" class=\"dataframe\">\n",
       "  <thead>\n",
       "    <tr style=\"text-align: right;\">\n",
       "      <th></th>\n",
       "      <th>subject</th>\n",
       "      <th>segment_id</th>\n",
       "      <th>activity_id</th>\n",
       "    </tr>\n",
       "  </thead>\n",
       "  <tbody>\n",
       "    <tr>\n",
       "      <th>0</th>\n",
       "      <td>2</td>\n",
       "      <td>0</td>\n",
       "      <td>6</td>\n",
       "    </tr>\n",
       "    <tr>\n",
       "      <th>1</th>\n",
       "      <td>2</td>\n",
       "      <td>56</td>\n",
       "      <td>12</td>\n",
       "    </tr>\n",
       "    <tr>\n",
       "      <th>2</th>\n",
       "      <td>2</td>\n",
       "      <td>67</td>\n",
       "      <td>12</td>\n",
       "    </tr>\n",
       "    <tr>\n",
       "      <th>3</th>\n",
       "      <td>2</td>\n",
       "      <td>85</td>\n",
       "      <td>2</td>\n",
       "    </tr>\n",
       "    <tr>\n",
       "      <th>4</th>\n",
       "      <td>2</td>\n",
       "      <td>99</td>\n",
       "      <td>3</td>\n",
       "    </tr>\n",
       "  </tbody>\n",
       "</table>\n",
       "</div>"
      ],
      "text/plain": [
       "   subject  segment_id  activity_id\n",
       "0        2           0            6\n",
       "1        2          56           12\n",
       "2        2          67           12\n",
       "3        2          85            2\n",
       "4        2          99            3"
      ]
     },
     "execution_count": 5,
     "metadata": {},
     "output_type": "execute_result"
    }
   ],
   "source": [
    "label_train = pd.read_csv('/content/drive/MyDrive/Research/Challenge 2021/IC-late-2021/Dataset/activities_train.csv')\n",
    "label_train.head(5)"
   ]
  },
  {
   "cell_type": "markdown",
   "metadata": {
    "id": "XD0QxEeRx_oj"
   },
   "source": [
    "#Data Prepocessing"
   ]
  },
  {
   "cell_type": "code",
   "execution_count": 7,
   "metadata": {
    "executionInfo": {
     "elapsed": 402,
     "status": "ok",
     "timestamp": 1638861994335,
     "user": {
      "displayName": "Nhật Tân Lê",
      "photoUrl": "https://lh3.googleusercontent.com/a/default-user=s64",
      "userId": "10252455260261302381"
     },
     "user_tz": -540
    },
    "id": "8iox6y29x5Sj"
   },
   "outputs": [],
   "source": [
    "df_train = df_train.interpolate(method='nearest')\n",
    "df_train = df_train.drop_duplicates()"
   ]
  },
  {
   "cell_type": "markdown",
   "metadata": {
    "id": "0DC90vpvyZ87"
   },
   "source": [
    "#Segmentation"
   ]
  },
  {
   "cell_type": "code",
   "execution_count": 33,
   "metadata": {
    "executionInfo": {
     "elapsed": 996,
     "status": "ok",
     "timestamp": 1638862906691,
     "user": {
      "displayName": "Nhật Tân Lê",
      "photoUrl": "https://lh3.googleusercontent.com/a/default-user=s64",
      "userId": "10252455260261302381"
     },
     "user_tz": -540
    },
    "id": "rT87AoKEybSs"
   },
   "outputs": [],
   "source": [
    "train_seg_list = []\n",
    "train_label_list = []\n",
    "for seg_id in df_train['segment_id'].unique():\n",
    "  temp = df_train[df_train['segment_id']==seg_id]\n",
    "  label = label_train[label_train['segment_id']==seg_id]['activity_id'].values\n",
    "\n",
    "  train_seg_list.append(temp)\n",
    "  train_label_list.append(int(label))"
   ]
  },
  {
   "cell_type": "code",
   "execution_count": 34,
   "metadata": {
    "colab": {
     "base_uri": "https://localhost:8080/"
    },
    "executionInfo": {
     "elapsed": 548,
     "status": "ok",
     "timestamp": 1638862910288,
     "user": {
      "displayName": "Nhật Tân Lê",
      "photoUrl": "https://lh3.googleusercontent.com/a/default-user=s64",
      "userId": "10252455260261302381"
     },
     "user_tz": -540
    },
    "id": "bi19BrCvzxlM",
    "outputId": "ae45790c-cd89-4683-de62-ee25e5f7b343"
   },
   "outputs": [
    {
     "name": "stdout",
     "output_type": "stream",
     "text": [
      "277\n",
      "277\n"
     ]
    }
   ],
   "source": [
    "print(len(train_label_list))\n",
    "print(len(train_seg_list))"
   ]
  },
  {
   "cell_type": "markdown",
   "metadata": {
    "id": "j_sG61mU0L1M"
   },
   "source": [
    "#Feature Extraction"
   ]
  },
  {
   "cell_type": "code",
   "execution_count": 68,
   "metadata": {
    "executionInfo": {
     "elapsed": 414,
     "status": "ok",
     "timestamp": 1638863712139,
     "user": {
      "displayName": "Nhật Tân Lê",
      "photoUrl": "https://lh3.googleusercontent.com/a/default-user=s64",
      "userId": "10252455260261302381"
     },
     "user_tz": -540
    },
    "id": "FFn5nFtE1TWu"
   },
   "outputs": [],
   "source": [
    "from scipy.signal import find_peaks\n",
    "import scipy.stats"
   ]
  },
  {
   "cell_type": "code",
   "execution_count": 70,
   "metadata": {
    "executionInfo": {
     "elapsed": 376,
     "status": "ok",
     "timestamp": 1638863845236,
     "user": {
      "displayName": "Nhật Tân Lê",
      "photoUrl": "https://lh3.googleusercontent.com/a/default-user=s64",
      "userId": "10252455260261302381"
     },
     "user_tz": -540
    },
    "id": "56mCLJkp0Ohc"
   },
   "outputs": [],
   "source": [
    "def get_features(x_data):\n",
    "    #Set features list\n",
    "    features = []\n",
    "    #Set columns name list\n",
    "    DFclist=list(x_data.columns)\n",
    "\n",
    "    #Calculate features (STD, Average, Max, Min) for each data columns X Y Z \n",
    "    for k in DFclist:\n",
    "        # std\n",
    "        features.append(x_data[k].std(ddof=0))\n",
    "        # avg\n",
    "        features.append(np.average(x_data[k]))\n",
    "        # max\n",
    "        features.append(np.max(x_data[k]))\n",
    "        # min\n",
    "        features.append(np.min(x_data[k]))\n",
    "        \n",
    "        #Quynh features\n",
    "        features.append(np.argmin(x_data[k]))\n",
    "        features.append(np.argmax(x_data[k]))\n",
    "        features.append(len(find_peaks(x_data[k])[0]))\n",
    "\n",
    "        #Min features\n",
    "        features.append(np.var(x_data[k]))\n",
    "        features.append(np.mean(x_data[k]))\n",
    "        scipy.stats.skew(x_data[k], axis=0, bias=True, nan_policy='propagate')\n",
    "        scipy.stats.kurtosis(x_data[k], axis=0, fisher=True, bias=True, nan_policy='propagate')\n",
    "    return features"
   ]
  },
  {
   "cell_type": "code",
   "execution_count": 71,
   "metadata": {
    "executionInfo": {
     "elapsed": 2062,
     "status": "ok",
     "timestamp": 1638863851854,
     "user": {
      "displayName": "Nhật Tân Lê",
      "photoUrl": "https://lh3.googleusercontent.com/a/default-user=s64",
      "userId": "10252455260261302381"
     },
     "user_tz": -540
    },
    "id": "7qMesTl00XX5"
   },
   "outputs": [],
   "source": [
    "features_list = []\n",
    "\n",
    "for seg in train_seg_list:\n",
    "  #Drop 2 columns 'subject_id' and 'datetime', we only use 3 columns x, y, z\n",
    "  seg = seg.drop(columns=['time_elapsed','segment_id'])\n",
    "  features_list.append(get_features(seg))\n"
   ]
  },
  {
   "cell_type": "markdown",
   "metadata": {
    "id": "3nMI-nPm1V8T"
   },
   "source": [
    "#Model Training"
   ]
  },
  {
   "cell_type": "code",
   "execution_count": 72,
   "metadata": {
    "executionInfo": {
     "elapsed": 472,
     "status": "ok",
     "timestamp": 1638863855603,
     "user": {
      "displayName": "Nhật Tân Lê",
      "photoUrl": "https://lh3.googleusercontent.com/a/default-user=s64",
      "userId": "10252455260261302381"
     },
     "user_tz": -540
    },
    "id": "TTXsyAhh1cGL"
   },
   "outputs": [],
   "source": [
    "from sklearn.ensemble import RandomForestClassifier  "
   ]
  },
  {
   "cell_type": "code",
   "execution_count": 73,
   "metadata": {
    "executionInfo": {
     "elapsed": 2,
     "status": "ok",
     "timestamp": 1638863857210,
     "user": {
      "displayName": "Nhật Tân Lê",
      "photoUrl": "https://lh3.googleusercontent.com/a/default-user=s64",
      "userId": "10252455260261302381"
     },
     "user_tz": -540
    },
    "id": "yu3ju5tE1hfu"
   },
   "outputs": [],
   "source": [
    "X_train = features_list\n",
    "y_train = train_label_list"
   ]
  },
  {
   "cell_type": "code",
   "execution_count": 74,
   "metadata": {
    "colab": {
     "base_uri": "https://localhost:8080/"
    },
    "executionInfo": {
     "elapsed": 1588,
     "status": "ok",
     "timestamp": 1638863860273,
     "user": {
      "displayName": "Nhật Tân Lê",
      "photoUrl": "https://lh3.googleusercontent.com/a/default-user=s64",
      "userId": "10252455260261302381"
     },
     "user_tz": -540
    },
    "id": "6AWF1cMC1XfW",
    "outputId": "190fb438-e0ee-4650-d3a4-5085f6670c3a"
   },
   "outputs": [
    {
     "data": {
      "text/plain": [
       "RandomForestClassifier(n_estimators=500, n_jobs=-1)"
      ]
     },
     "execution_count": 74,
     "metadata": {},
     "output_type": "execute_result"
    }
   ],
   "source": [
    "model_ml = RandomForestClassifier(n_estimators=500,n_jobs=-1)\n",
    "model_ml.fit(X_train, y_train)"
   ]
  },
  {
   "cell_type": "markdown",
   "metadata": {
    "id": "uGXESTyr2xhf"
   },
   "source": [
    "#Testing"
   ]
  },
  {
   "cell_type": "code",
   "execution_count": 52,
   "metadata": {
    "executionInfo": {
     "elapsed": 1922,
     "status": "ok",
     "timestamp": 1638863224409,
     "user": {
      "displayName": "Nhật Tân Lê",
      "photoUrl": "https://lh3.googleusercontent.com/a/default-user=s64",
      "userId": "10252455260261302381"
     },
     "user_tz": -540
    },
    "id": "qeXuenXi20KX"
   },
   "outputs": [],
   "source": [
    "df_test = pd.read_csv('/content/drive/MyDrive/Research/Challenge 2021/IC-late-2021/Dataset/accelerometer_test.csv')\n",
    "label_test = pd.read_csv('/content/drive/MyDrive/Research/Challenge 2021/IC-late-2021/Dataset/activities_test.csv')"
   ]
  },
  {
   "cell_type": "code",
   "execution_count": 53,
   "metadata": {
    "executionInfo": {
     "elapsed": 512,
     "status": "ok",
     "timestamp": 1638863267820,
     "user": {
      "displayName": "Nhật Tân Lê",
      "photoUrl": "https://lh3.googleusercontent.com/a/default-user=s64",
      "userId": "10252455260261302381"
     },
     "user_tz": -540
    },
    "id": "G3Z_08Pr3D1V"
   },
   "outputs": [],
   "source": [
    "df_test = df_test.interpolate(method='nearest')\n",
    "df_test = df_test.drop_duplicates()"
   ]
  },
  {
   "cell_type": "code",
   "execution_count": 75,
   "metadata": {
    "executionInfo": {
     "elapsed": 371,
     "status": "ok",
     "timestamp": 1638863865514,
     "user": {
      "displayName": "Nhật Tân Lê",
      "photoUrl": "https://lh3.googleusercontent.com/a/default-user=s64",
      "userId": "10252455260261302381"
     },
     "user_tz": -540
    },
    "id": "X1AAy9dF3OkG"
   },
   "outputs": [],
   "source": [
    "test_seg_list = []\n",
    "test_label_list = []\n",
    "for seg_id in df_test['segment_id'].unique():\n",
    "  temp = df_test[df_test['segment_id']==seg_id]\n",
    "  label = label_test[label_test['segment_id']==seg_id]['activity_id'].values\n",
    "\n",
    "  test_seg_list.append(temp)\n",
    "  test_label_list.append(int(label))"
   ]
  },
  {
   "cell_type": "code",
   "execution_count": 76,
   "metadata": {
    "executionInfo": {
     "elapsed": 911,
     "status": "ok",
     "timestamp": 1638863868481,
     "user": {
      "displayName": "Nhật Tân Lê",
      "photoUrl": "https://lh3.googleusercontent.com/a/default-user=s64",
      "userId": "10252455260261302381"
     },
     "user_tz": -540
    },
    "id": "UopnVIx-3aVh"
   },
   "outputs": [],
   "source": [
    "test_features_list = []\n",
    "\n",
    "for seg in test_seg_list:\n",
    "  #Drop 2 columns 'subject_id' and 'datetime', we only use 3 columns x, y, z\n",
    "  seg = seg.drop(columns=['time_elapsed','segment_id'])\n",
    "  test_features_list.append(get_features(seg))\n"
   ]
  },
  {
   "cell_type": "code",
   "execution_count": 77,
   "metadata": {
    "executionInfo": {
     "elapsed": 3,
     "status": "ok",
     "timestamp": 1638863870193,
     "user": {
      "displayName": "Nhật Tân Lê",
      "photoUrl": "https://lh3.googleusercontent.com/a/default-user=s64",
      "userId": "10252455260261302381"
     },
     "user_tz": -540
    },
    "id": "i8PFm1_M3gXV"
   },
   "outputs": [],
   "source": [
    "X_test = test_features_list\n",
    "y_test = test_label_list"
   ]
  },
  {
   "cell_type": "code",
   "execution_count": 78,
   "metadata": {
    "executionInfo": {
     "elapsed": 4,
     "status": "ok",
     "timestamp": 1638863871751,
     "user": {
      "displayName": "Nhật Tân Lê",
      "photoUrl": "https://lh3.googleusercontent.com/a/default-user=s64",
      "userId": "10252455260261302381"
     },
     "user_tz": -540
    },
    "id": "91be3VlK3p6a"
   },
   "outputs": [],
   "source": [
    "y_predict = model_ml.predict(X_test)"
   ]
  },
  {
   "cell_type": "code",
   "execution_count": 79,
   "metadata": {
    "executionInfo": {
     "elapsed": 3,
     "status": "ok",
     "timestamp": 1638863873776,
     "user": {
      "displayName": "Nhật Tân Lê",
      "photoUrl": "https://lh3.googleusercontent.com/a/default-user=s64",
      "userId": "10252455260261302381"
     },
     "user_tz": -540
    },
    "id": "tmQ_t2Pt3rcw"
   },
   "outputs": [],
   "source": [
    "from sklearn.metrics import confusion_matrix, ConfusionMatrixDisplay, classification_report\n",
    "import matplotlib.pyplot as plt"
   ]
  },
  {
   "cell_type": "code",
   "execution_count": 80,
   "metadata": {
    "colab": {
     "base_uri": "https://localhost:8080/"
    },
    "executionInfo": {
     "elapsed": 3,
     "status": "ok",
     "timestamp": 1638863875550,
     "user": {
      "displayName": "Nhật Tân Lê",
      "photoUrl": "https://lh3.googleusercontent.com/a/default-user=s64",
      "userId": "10252455260261302381"
     },
     "user_tz": -540
    },
    "id": "bgjQ5UCN3xXa",
    "outputId": "49679d95-87c8-443d-8757-972976b6889a"
   },
   "outputs": [
    {
     "name": "stdout",
     "output_type": "stream",
     "text": [
      "              precision    recall  f1-score   support\n",
      "\n",
      "           2       0.74      0.85      0.79        20\n",
      "           3       0.54      0.75      0.63        20\n",
      "           4       0.46      0.35      0.40        17\n",
      "           6       1.00      0.50      0.67        14\n",
      "           9       0.75      0.64      0.69        14\n",
      "          12       0.67      0.71      0.69        31\n",
      "\n",
      "    accuracy                           0.66       116\n",
      "   macro avg       0.69      0.63      0.64       116\n",
      "weighted avg       0.68      0.66      0.65       116\n",
      "\n"
     ]
    }
   ],
   "source": [
    "print(classification_report(y_test,y_predict))"
   ]
  },
  {
   "cell_type": "code",
   "execution_count": 81,
   "metadata": {
    "executionInfo": {
     "elapsed": 482,
     "status": "ok",
     "timestamp": 1638863878277,
     "user": {
      "displayName": "Nhật Tân Lê",
      "photoUrl": "https://lh3.googleusercontent.com/a/default-user=s64",
      "userId": "10252455260261302381"
     },
     "user_tz": -540
    },
    "id": "DW3gQQwm4Mhq"
   },
   "outputs": [],
   "source": [
    "cm = confusion_matrix(y_test,y_predict)"
   ]
  },
  {
   "cell_type": "code",
   "execution_count": 82,
   "metadata": {
    "colab": {
     "base_uri": "https://localhost:8080/",
     "height": 278
    },
    "executionInfo": {
     "elapsed": 541,
     "status": "ok",
     "timestamp": 1638863880304,
     "user": {
      "displayName": "Nhật Tân Lê",
      "photoUrl": "https://lh3.googleusercontent.com/a/default-user=s64",
      "userId": "10252455260261302381"
     },
     "user_tz": -540
    },
    "id": "JoT5aemQ4N2Q",
    "outputId": "4c7a7657-8645-4468-e79e-0ebeecafc49f"
   },
   "outputs": [
    {
     "data": {
      "image/png": "[encoded data removed]",
      "text/plain": [
       "<Figure size 432x288 with 2 Axes>"
      ]
     },
     "metadata": {
      "needs_background": "light"
     },
     "output_type": "display_data"
    }
   ],
   "source": [
    "disp = ConfusionMatrixDisplay(confusion_matrix=cm)\n",
    "disp.plot()\n",
    "plt.show()"
   ]
  }
 ],
 "metadata": {
  "colab": {
   "authorship_tag": "ABX9TyPSLfdnM33WbvQnkShtAn17",
   "mount_file_id": "1RK_5EwdQ3Spnx4_lrlwuKMF-L29zHiiB",
   "name": "Tutorial.ipynb",
   "provenance": []
  },
  "kernelspec": {
   "display_name": "Python 3 (ipykernel)",
   "language": "python",
   "name": "python3"
  },
  "language_info": {
   "codemirror_mode": {
    "name": "ipython",
    "version": 3
   },
   "file_extension": ".py",
   "mimetype": "text/x-python",
   "name": "python",
   "nbconvert_exporter": "python",
   "pygments_lexer": "ipython3",
   "version": "3.8.5"
  }
 },
 "nbformat": 4,
 "nbformat_minor": 1
}
