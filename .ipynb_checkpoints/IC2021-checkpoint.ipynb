{
 "cells": [
  {
   "cell_type": "markdown",
   "metadata": {
    "id": "aXGCJRqCD4yx"
   },
   "source": [
    "# Load Library"
   ]
  },
  {
   "cell_type": "code",
   "execution_count": 1,
   "metadata": {
    "executionInfo": {
     "elapsed": 1474,
     "status": "ok",
     "timestamp": 1619753873020,
     "user": {
      "displayName": "Nhật Tân Lê",
      "photoUrl": "",
      "userId": "10252455260261302381"
     },
     "user_tz": -540
    },
    "id": "7IQdODg7D35v"
   },
   "outputs": [],
   "source": [
    "import pandas as pd\n",
    "import numpy as np\n",
    "import matplotlib.pyplot as plt\n",
    "from glob import glob\n"
   ]
  },
  {
   "cell_type": "markdown",
   "metadata": {
    "id": "8y0N1W2OETKl"
   },
   "source": [
    "# Segmentation Function\n"
   ]
  },
  {
   "cell_type": "code",
   "execution_count": 2,
   "metadata": {
    "executionInfo": {
     "elapsed": 2661,
     "status": "ok",
     "timestamp": 1619753874211,
     "user": {
      "displayName": "Nhật Tân Lê",
      "photoUrl": "",
      "userId": "10252455260261302381"
     },
     "user_tz": -540
    },
    "id": "WL7Li7lqEYAA"
   },
   "outputs": [],
   "source": [
    "def segmentation(x_data,overlap_rate,time_window):\n",
    "    \n",
    "    #Set 2 list of segment window and its label\n",
    "    seg_data = []\n",
    "    y_segmented_list = []\n",
    "\n",
    "    #Convert overlap rate to step for sliding window\n",
    "    overlap = int((1 - overlap_rate)*time_window)\n",
    "    \n",
    "    #Segment and keep its label\n",
    "    for i in range(0,x_data.shape[0],overlap):\n",
    "        seg_data.append(x_data[i:i+time_window])\n",
    "        y_segmented_list.append(x_data['activity'][i])\n",
    "        \n",
    "    return seg_data,y_segmented_list\n"
   ]
  },
  {
   "cell_type": "markdown",
   "metadata": {
    "id": "137rdLlQE329"
   },
   "source": [
    "# Feature Extraction Function\n"
   ]
  },
  {
   "cell_type": "code",
   "execution_count": 9,
   "metadata": {
    "executionInfo": {
     "elapsed": 2659,
     "status": "ok",
     "timestamp": 1619753874212,
     "user": {
      "displayName": "Nhật Tân Lê",
      "photoUrl": "",
      "userId": "10252455260261302381"
     },
     "user_tz": -540
    },
    "id": "uVJ3rE4lE8LH"
   },
   "outputs": [],
   "source": [
    "def get_features(x_data):\n",
    "    #Set features list\n",
    "    features = []\n",
    "    #Set columns name list\n",
    "    DFclist=list(x_data.columns)\n",
    "\n",
    "    #Calculate features (STD, Average, Max, Min) for each data columns X Y Z 1 -> 29\n",
    "    for k in DFclist:\n",
    "        # std\n",
    "        features.append(x_data[k].std(ddof=0))\n",
    "        # avg\n",
    "        features.append(np.average(x_data[k]))\n",
    "        # max\n",
    "        features.append(np.max(x_data[k]))\n",
    "        # min\n",
    "        features.append(np.min(x_data[k]))\n",
    "    return features\n"
   ]
  },
  {
   "cell_type": "markdown",
   "metadata": {
    "id": "fcoKIa82FfZ-"
   },
   "source": [
    "# Handle dataset\n"
   ]
  },
  {
   "cell_type": "code",
   "execution_count": 4,
   "metadata": {
    "executionInfo": {
     "elapsed": 234602,
     "status": "ok",
     "timestamp": 1619754106157,
     "user": {
      "displayName": "Nhật Tân Lê",
      "photoUrl": "",
      "userId": "10252455260261302381"
     },
     "user_tz": -540
    },
    "id": "U6QZ8sOsFkAa"
   },
   "outputs": [],
   "source": [
    "#Load all data file\n",
    "data_list=glob('drive/MyDrive/Research/Challenge 2021/IC2021/Dataset/*')    \n",
    "\n",
    "#Set train/test list\n",
    "train_features_list=[]\n",
    "train_label_list=[]\n",
    "test_features_list=[]\n",
    "test_label_list=[]\n",
    "\n",
    "\n",
    "for data_file in data_list:\n",
    "    df1=pd.read_csv(data_file)\n",
    "\n",
    "    #Handle Missing data by interpolation\n",
    "    df1_itpl=df1.interpolate()\n",
    "    df1_itpl=df1_itpl.fillna(0)\n",
    "    #Segmentation with overlaprate=0 & window=100\n",
    "    [seg, seg_label]=segmentation(df1_itpl,0.5,350)\n",
    "\n",
    "    #Run through segment window list to extract features\n",
    "    for j in range(0,len(seg)):\n",
    "\n",
    "        #Set user 1, 2 as train data and user 3 as test data\n",
    "        if (any(seg[j]['subject_id']==1)) or (any(seg[j]['subject_id']==3)):\n",
    "            \n",
    "            #extract only xyz columns\n",
    "            frame1=seg[j].drop(columns=['subject_id','activity'])\n",
    "            frame1=frame1.reset_index()\n",
    "            frame1=frame1.drop(columns=['index'])\n",
    "\n",
    "            #Get features and label for each elements\n",
    "            train_features_list.append(get_features(frame1))\n",
    "            train_label_list.append(seg_label[j])\n",
    "        else:\n",
    "            #extract only xyz columns\n",
    "            frame1=seg[j].drop(columns=['subject_id','activity'])\n",
    "            frame1=frame1.reset_index()\n",
    "            frame1=frame1.drop(columns=['index'])\n",
    "\n",
    "            #Similar to test data\n",
    "            test_features_list.append(get_features(frame1))\n",
    "            test_label_list.append(seg_label[j])\n",
    "            \n",
    "            "
   ]
  },
  {
   "cell_type": "code",
   "execution_count": 5,
   "metadata": {
    "colab": {
     "base_uri": "https://localhost:8080/"
    },
    "executionInfo": {
     "elapsed": 235001,
     "status": "ok",
     "timestamp": 1619754106559,
     "user": {
      "displayName": "Nhật Tân Lê",
      "photoUrl": "",
      "userId": "10252455260261302381"
     },
     "user_tz": -540
    },
    "id": "_0ddTIx0K5hc",
    "outputId": "e162d83c-26b3-466a-c226-e3e7cd62e018"
   },
   "outputs": [
    {
     "name": "stdout",
     "output_type": "stream",
     "text": [
      "False\n",
      "True\n"
     ]
    }
   ],
   "source": [
    "#Check nan, infinite data\n",
    "print(np.any(np.isnan(np.array(train_features_list))))\n",
    "print(np.all(np.isfinite(np.array(train_features_list))))\n"
   ]
  },
  {
   "cell_type": "code",
   "execution_count": 6,
   "metadata": {
    "colab": {
     "base_uri": "https://localhost:8080/"
    },
    "executionInfo": {
     "elapsed": 234995,
     "status": "ok",
     "timestamp": 1619754106560,
     "user": {
      "displayName": "Nhật Tân Lê",
      "photoUrl": "",
      "userId": "10252455260261302381"
     },
     "user_tz": -540
    },
    "id": "HzOCdwFSCoGY",
    "outputId": "1b6680d3-1baf-4314-c71b-d6ae4fb0b226"
   },
   "outputs": [
    {
     "data": {
      "text/plain": [
       "0"
      ]
     },
     "execution_count": 6,
     "metadata": {},
     "output_type": "execute_result"
    }
   ],
   "source": [
    "len(train_features_list)\n"
   ]
  },
  {
   "cell_type": "markdown",
   "metadata": {
    "id": "GCn20GJ3HGkr"
   },
   "source": [
    "# Define Model & Training"
   ]
  },
  {
   "cell_type": "code",
   "execution_count": 7,
   "metadata": {
    "executionInfo": {
     "elapsed": 235874,
     "status": "ok",
     "timestamp": 1619754107441,
     "user": {
      "displayName": "Nhật Tân Lê",
      "photoUrl": "",
      "userId": "10252455260261302381"
     },
     "user_tz": -540
    },
    "id": "EZaZcxnoHJqJ"
   },
   "outputs": [],
   "source": [
    "from sklearn.ensemble import RandomForestClassifier\n",
    "            \n",
    "model_ml = RandomForestClassifier(n_estimators=500,n_jobs=-1)\n"
   ]
  },
  {
   "cell_type": "code",
   "execution_count": 8,
   "metadata": {
    "colab": {
     "base_uri": "https://localhost:8080/"
    },
    "executionInfo": {
     "elapsed": 253876,
     "status": "ok",
     "timestamp": 1619754125448,
     "user": {
      "displayName": "Nhật Tân Lê",
      "photoUrl": "",
      "userId": "10252455260261302381"
     },
     "user_tz": -540
    },
    "id": "_oqO0nsUHNt9",
    "outputId": "99f22199-b430-4156-e8d6-d66b8a837ed6"
   },
   "outputs": [
    {
     "ename": "ValueError",
     "evalue": "Expected 2D array, got 1D array instead:\narray=[].\nReshape your data either using array.reshape(-1, 1) if your data has a single feature or array.reshape(1, -1) if it contains a single sample.",
     "output_type": "error",
     "traceback": [
      "\u001b[0;31m---------------------------------------------------------------------------\u001b[0m",
      "\u001b[0;31mValueError\u001b[0m                                Traceback (most recent call last)",
      "\u001b[0;32m/var/folders/ly/gtnzqggj0tj1d_w24wl7yx980000gn/T/ipykernel_54273/380400270.py\u001b[0m in \u001b[0;36m<module>\u001b[0;34m\u001b[0m\n\u001b[0;32m----> 1\u001b[0;31m \u001b[0mmodel_ml\u001b[0m\u001b[0;34m.\u001b[0m\u001b[0mfit\u001b[0m\u001b[0;34m(\u001b[0m\u001b[0mtrain_features_list\u001b[0m\u001b[0;34m,\u001b[0m\u001b[0mtrain_label_list\u001b[0m\u001b[0;34m)\u001b[0m\u001b[0;34m\u001b[0m\u001b[0;34m\u001b[0m\u001b[0m\n\u001b[0m",
      "\u001b[0;32m/Library/Frameworks/Python.framework/Versions/3.8/lib/python3.8/site-packages/sklearn/ensemble/_forest.py\u001b[0m in \u001b[0;36mfit\u001b[0;34m(self, X, y, sample_weight)\u001b[0m\n\u001b[1;32m    302\u001b[0m                 \u001b[0;34m\"sparse multilabel-indicator for y is not supported.\"\u001b[0m\u001b[0;34m\u001b[0m\u001b[0;34m\u001b[0m\u001b[0m\n\u001b[1;32m    303\u001b[0m             )\n\u001b[0;32m--> 304\u001b[0;31m         X, y = self._validate_data(X, y, multi_output=True,\n\u001b[0m\u001b[1;32m    305\u001b[0m                                    accept_sparse=\"csc\", dtype=DTYPE)\n\u001b[1;32m    306\u001b[0m         \u001b[0;32mif\u001b[0m \u001b[0msample_weight\u001b[0m \u001b[0;32mis\u001b[0m \u001b[0;32mnot\u001b[0m \u001b[0;32mNone\u001b[0m\u001b[0;34m:\u001b[0m\u001b[0;34m\u001b[0m\u001b[0;34m\u001b[0m\u001b[0m\n",
      "\u001b[0;32m/Library/Frameworks/Python.framework/Versions/3.8/lib/python3.8/site-packages/sklearn/base.py\u001b[0m in \u001b[0;36m_validate_data\u001b[0;34m(self, X, y, reset, validate_separately, **check_params)\u001b[0m\n\u001b[1;32m    431\u001b[0m                 \u001b[0my\u001b[0m \u001b[0;34m=\u001b[0m \u001b[0mcheck_array\u001b[0m\u001b[0;34m(\u001b[0m\u001b[0my\u001b[0m\u001b[0;34m,\u001b[0m \u001b[0;34m**\u001b[0m\u001b[0mcheck_y_params\u001b[0m\u001b[0;34m)\u001b[0m\u001b[0;34m\u001b[0m\u001b[0;34m\u001b[0m\u001b[0m\n\u001b[1;32m    432\u001b[0m             \u001b[0;32melse\u001b[0m\u001b[0;34m:\u001b[0m\u001b[0;34m\u001b[0m\u001b[0;34m\u001b[0m\u001b[0m\n\u001b[0;32m--> 433\u001b[0;31m                 \u001b[0mX\u001b[0m\u001b[0;34m,\u001b[0m \u001b[0my\u001b[0m \u001b[0;34m=\u001b[0m \u001b[0mcheck_X_y\u001b[0m\u001b[0;34m(\u001b[0m\u001b[0mX\u001b[0m\u001b[0;34m,\u001b[0m \u001b[0my\u001b[0m\u001b[0;34m,\u001b[0m \u001b[0;34m**\u001b[0m\u001b[0mcheck_params\u001b[0m\u001b[0;34m)\u001b[0m\u001b[0;34m\u001b[0m\u001b[0;34m\u001b[0m\u001b[0m\n\u001b[0m\u001b[1;32m    434\u001b[0m             \u001b[0mout\u001b[0m \u001b[0;34m=\u001b[0m \u001b[0mX\u001b[0m\u001b[0;34m,\u001b[0m \u001b[0my\u001b[0m\u001b[0;34m\u001b[0m\u001b[0;34m\u001b[0m\u001b[0m\n\u001b[1;32m    435\u001b[0m \u001b[0;34m\u001b[0m\u001b[0m\n",
      "\u001b[0;32m/Library/Frameworks/Python.framework/Versions/3.8/lib/python3.8/site-packages/sklearn/utils/validation.py\u001b[0m in \u001b[0;36minner_f\u001b[0;34m(*args, **kwargs)\u001b[0m\n\u001b[1;32m     61\u001b[0m             \u001b[0mextra_args\u001b[0m \u001b[0;34m=\u001b[0m \u001b[0mlen\u001b[0m\u001b[0;34m(\u001b[0m\u001b[0margs\u001b[0m\u001b[0;34m)\u001b[0m \u001b[0;34m-\u001b[0m \u001b[0mlen\u001b[0m\u001b[0;34m(\u001b[0m\u001b[0mall_args\u001b[0m\u001b[0;34m)\u001b[0m\u001b[0;34m\u001b[0m\u001b[0;34m\u001b[0m\u001b[0m\n\u001b[1;32m     62\u001b[0m             \u001b[0;32mif\u001b[0m \u001b[0mextra_args\u001b[0m \u001b[0;34m<=\u001b[0m \u001b[0;36m0\u001b[0m\u001b[0;34m:\u001b[0m\u001b[0;34m\u001b[0m\u001b[0;34m\u001b[0m\u001b[0m\n\u001b[0;32m---> 63\u001b[0;31m                 \u001b[0;32mreturn\u001b[0m \u001b[0mf\u001b[0m\u001b[0;34m(\u001b[0m\u001b[0;34m*\u001b[0m\u001b[0margs\u001b[0m\u001b[0;34m,\u001b[0m \u001b[0;34m**\u001b[0m\u001b[0mkwargs\u001b[0m\u001b[0;34m)\u001b[0m\u001b[0;34m\u001b[0m\u001b[0;34m\u001b[0m\u001b[0m\n\u001b[0m\u001b[1;32m     64\u001b[0m \u001b[0;34m\u001b[0m\u001b[0m\n\u001b[1;32m     65\u001b[0m             \u001b[0;31m# extra_args > 0\u001b[0m\u001b[0;34m\u001b[0m\u001b[0;34m\u001b[0m\u001b[0;34m\u001b[0m\u001b[0m\n",
      "\u001b[0;32m/Library/Frameworks/Python.framework/Versions/3.8/lib/python3.8/site-packages/sklearn/utils/validation.py\u001b[0m in \u001b[0;36mcheck_X_y\u001b[0;34m(X, y, accept_sparse, accept_large_sparse, dtype, order, copy, force_all_finite, ensure_2d, allow_nd, multi_output, ensure_min_samples, ensure_min_features, y_numeric, estimator)\u001b[0m\n\u001b[1;32m    869\u001b[0m         \u001b[0;32mraise\u001b[0m \u001b[0mValueError\u001b[0m\u001b[0;34m(\u001b[0m\u001b[0;34m\"y cannot be None\"\u001b[0m\u001b[0;34m)\u001b[0m\u001b[0;34m\u001b[0m\u001b[0;34m\u001b[0m\u001b[0m\n\u001b[1;32m    870\u001b[0m \u001b[0;34m\u001b[0m\u001b[0m\n\u001b[0;32m--> 871\u001b[0;31m     X = check_array(X, accept_sparse=accept_sparse,\n\u001b[0m\u001b[1;32m    872\u001b[0m                     \u001b[0maccept_large_sparse\u001b[0m\u001b[0;34m=\u001b[0m\u001b[0maccept_large_sparse\u001b[0m\u001b[0;34m,\u001b[0m\u001b[0;34m\u001b[0m\u001b[0;34m\u001b[0m\u001b[0m\n\u001b[1;32m    873\u001b[0m                     \u001b[0mdtype\u001b[0m\u001b[0;34m=\u001b[0m\u001b[0mdtype\u001b[0m\u001b[0;34m,\u001b[0m \u001b[0morder\u001b[0m\u001b[0;34m=\u001b[0m\u001b[0morder\u001b[0m\u001b[0;34m,\u001b[0m \u001b[0mcopy\u001b[0m\u001b[0;34m=\u001b[0m\u001b[0mcopy\u001b[0m\u001b[0;34m,\u001b[0m\u001b[0;34m\u001b[0m\u001b[0;34m\u001b[0m\u001b[0m\n",
      "\u001b[0;32m/Library/Frameworks/Python.framework/Versions/3.8/lib/python3.8/site-packages/sklearn/utils/validation.py\u001b[0m in \u001b[0;36minner_f\u001b[0;34m(*args, **kwargs)\u001b[0m\n\u001b[1;32m     61\u001b[0m             \u001b[0mextra_args\u001b[0m \u001b[0;34m=\u001b[0m \u001b[0mlen\u001b[0m\u001b[0;34m(\u001b[0m\u001b[0margs\u001b[0m\u001b[0;34m)\u001b[0m \u001b[0;34m-\u001b[0m \u001b[0mlen\u001b[0m\u001b[0;34m(\u001b[0m\u001b[0mall_args\u001b[0m\u001b[0;34m)\u001b[0m\u001b[0;34m\u001b[0m\u001b[0;34m\u001b[0m\u001b[0m\n\u001b[1;32m     62\u001b[0m             \u001b[0;32mif\u001b[0m \u001b[0mextra_args\u001b[0m \u001b[0;34m<=\u001b[0m \u001b[0;36m0\u001b[0m\u001b[0;34m:\u001b[0m\u001b[0;34m\u001b[0m\u001b[0;34m\u001b[0m\u001b[0m\n\u001b[0;32m---> 63\u001b[0;31m                 \u001b[0;32mreturn\u001b[0m \u001b[0mf\u001b[0m\u001b[0;34m(\u001b[0m\u001b[0;34m*\u001b[0m\u001b[0margs\u001b[0m\u001b[0;34m,\u001b[0m \u001b[0;34m**\u001b[0m\u001b[0mkwargs\u001b[0m\u001b[0;34m)\u001b[0m\u001b[0;34m\u001b[0m\u001b[0;34m\u001b[0m\u001b[0m\n\u001b[0m\u001b[1;32m     64\u001b[0m \u001b[0;34m\u001b[0m\u001b[0m\n\u001b[1;32m     65\u001b[0m             \u001b[0;31m# extra_args > 0\u001b[0m\u001b[0;34m\u001b[0m\u001b[0;34m\u001b[0m\u001b[0;34m\u001b[0m\u001b[0m\n",
      "\u001b[0;32m/Library/Frameworks/Python.framework/Versions/3.8/lib/python3.8/site-packages/sklearn/utils/validation.py\u001b[0m in \u001b[0;36mcheck_array\u001b[0;34m(array, accept_sparse, accept_large_sparse, dtype, order, copy, force_all_finite, ensure_2d, allow_nd, ensure_min_samples, ensure_min_features, estimator)\u001b[0m\n\u001b[1;32m    692\u001b[0m             \u001b[0;31m# If input is 1D raise error\u001b[0m\u001b[0;34m\u001b[0m\u001b[0;34m\u001b[0m\u001b[0;34m\u001b[0m\u001b[0m\n\u001b[1;32m    693\u001b[0m             \u001b[0;32mif\u001b[0m \u001b[0marray\u001b[0m\u001b[0;34m.\u001b[0m\u001b[0mndim\u001b[0m \u001b[0;34m==\u001b[0m \u001b[0;36m1\u001b[0m\u001b[0;34m:\u001b[0m\u001b[0;34m\u001b[0m\u001b[0;34m\u001b[0m\u001b[0m\n\u001b[0;32m--> 694\u001b[0;31m                 raise ValueError(\n\u001b[0m\u001b[1;32m    695\u001b[0m                     \u001b[0;34m\"Expected 2D array, got 1D array instead:\\narray={}.\\n\"\u001b[0m\u001b[0;34m\u001b[0m\u001b[0;34m\u001b[0m\u001b[0m\n\u001b[1;32m    696\u001b[0m                     \u001b[0;34m\"Reshape your data either using array.reshape(-1, 1) if \"\u001b[0m\u001b[0;34m\u001b[0m\u001b[0;34m\u001b[0m\u001b[0m\n",
      "\u001b[0;31mValueError\u001b[0m: Expected 2D array, got 1D array instead:\narray=[].\nReshape your data either using array.reshape(-1, 1) if your data has a single feature or array.reshape(1, -1) if it contains a single sample."
     ]
    }
   ],
   "source": [
    "model_ml.fit(train_features_list,train_label_list)\n"
   ]
  },
  {
   "cell_type": "code",
   "execution_count": 9,
   "metadata": {
    "executionInfo": {
     "elapsed": 253873,
     "status": "ok",
     "timestamp": 1619754125449,
     "user": {
      "displayName": "Nhật Tân Lê",
      "photoUrl": "",
      "userId": "10252455260261302381"
     },
     "user_tz": -540
    },
    "id": "pCgzGlX0md81"
   },
   "outputs": [],
   "source": [
    "for features_point in train_features_list:\n",
    "  if np.any(np.isnan(features_point)):\n",
    "    print(train_features_list.index(features_point))\n",
    "    "
   ]
  },
  {
   "cell_type": "code",
   "execution_count": 10,
   "metadata": {
    "colab": {
     "base_uri": "https://localhost:8080/"
    },
    "executionInfo": {
     "elapsed": 253871,
     "status": "ok",
     "timestamp": 1619754125449,
     "user": {
      "displayName": "Nhật Tân Lê",
      "photoUrl": "",
      "userId": "10252455260261302381"
     },
     "user_tz": -540
    },
    "id": "HsXyd9_EoReA",
    "outputId": "6577eb62-e242-47bf-9d1c-33e249b845e1"
   },
   "outputs": [
    {
     "name": "stdout",
     "output_type": "stream",
     "text": [
      "18.562063828571436\n"
     ]
    }
   ],
   "source": [
    "print(train_features_list[54][325])\n"
   ]
  },
  {
   "cell_type": "code",
   "execution_count": 11,
   "metadata": {
    "colab": {
     "base_uri": "https://localhost:8080/"
    },
    "executionInfo": {
     "elapsed": 253870,
     "status": "ok",
     "timestamp": 1619754125450,
     "user": {
      "displayName": "Nhật Tân Lê",
      "photoUrl": "",
      "userId": "10252455260261302381"
     },
     "user_tz": -540
    },
    "id": "C-qNWgFQoA9H",
    "outputId": "0b0ff1b6-b250-461d-c294-6adf7232fd62"
   },
   "outputs": [
    {
     "name": "stdout",
     "output_type": "stream",
     "text": [
      "[272.24347732017566, 357.70788125714284, 665.37262, 11.47626, 285.36739016485734, 137.66796302857145, 506.06268, -224.51991, 41.7497724874643, 1486.5280163142859, 1562.49854, 1439.70459, 260.1879237440185, 313.826884, 613.62494, -11.4566, 244.14091882481054, 87.16081437142857, 418.16232, -202.9156, 31.63127907613555, 1599.9200467428573, 1660.3913599999996, 1563.80798, 200.54208521543868, 248.86463128571424, 474.65726, -7.49327, 190.74114020968582, 24.082028657142864, 297.46338, -174.31129, 22.567023698058968, 1527.2756587428569, 1564.4478800000004, 1482.94678, 98.45856827714545, 313.56303160000004, 419.62439000000006, 164.21536, 247.30073667667506, -87.00147828571427, 272.52454, -330.8012700000001, 16.305879423545345, 1338.486600742857, 1372.12781, 1316.06409, 52.66517800049703, 167.11233408571428, 234.5853, 95.7487, 139.82936502061372, -132.49256765714284, 85.64576, -267.78598, 3.354021793046911, 1310.3976250285714, 1324.41785, 1304.62756, 79.19543919266735, 379.83068808571426, 464.99051, 246.75063, 336.7189027492047, -114.21168611428567, 407.06363, -423.8678900000001, 27.754257349047162, 1060.4353589714285, 1117.74475, 1030.96167, 159.00841152554872, 474.8491687714286, 615.21088, 204.19901, 416.5363051192265, 5.789150142857148, 608.01361, -386.32568, 75.37482046791786, 948.2830938857142, 1069.60425, 853.1173699999998, 240.14561692077243, 143.43631728571427, 403.48059, -162.66975, 111.51517897363111, 135.1902414571429, 302.18597, 9.15852, 27.45826856526521, 1353.1960527999997, 1381.13599, 1304.44629, 284.86927989439425, 141.70450802857147, 452.11896, -254.26039, 142.0591956425786, 198.57522928571427, 434.08121, 48.07318, 17.914120734525795, 1068.4442804, 1085.22949, 1006.88007, 294.59206701602557, 292.7049533428572, 597.7016, -129.32291999999998, 279.8773744241588, 228.40530048571432, 625.94135, -69.4014, 51.0860750793979, 962.9605165142856, 1063.24658, 904.45087, 46.423078028648874, 238.1706384, 288.0578, 165.78432, 113.00489784471787, -141.12798054285713, 18.03249, -257.71213, 7.709843648156364, 962.1215522857143, 976.97815, 953.78247, 139.9512067474129, 47.6076646, 200.2131, -133.15368999999998, 18.318877476432117, 57.68016842857143, 101.01035, 35.954, 19.613069884744924, 982.9279333428573, 1004.49377, 954.18701, 51.13188471058541, 47.880382600000004, 108.01849, -25.27596, 24.36435746792708, -127.34151405714286, -78.51906, -149.10905, 7.2766646214485755, 979.0904012571428, 987.11755, 964.18555, 64.0045511017925, 269.5353946857143, 338.29169, 178.85136, 77.48702358084697, -56.81038941428572, 57.87951999999999, -139.99765, 3.5633186773840015, 630.7679847857144, 638.2074, 621.91455, 21.865822932899217, 250.3529625428572, 278.76559, 220.85753, 47.183909492034104, -173.35363757142858, -94.99621, -221.48633, 9.733191958121122, 448.4612386857143, 464.44800000000004, 440.4697900000001, 20.289084597466, 231.5948572285714, 256.15079, 205.2283, 23.055664960424537, -113.69767757142857, -71.32519, -137.77634, 5.178106893690645, 283.88118894285714, 293.04263, 277.74692000000005, 2.2672408596111033, 183.75386762857144, 186.76114, 179.73793, 1.8673368826312184, -122.07801219999997, -115.1289, -125.14435, 6.138588129795436, 96.52548717142857, 107.06825, 88.54399000000002, 3.4348444832023124, 177.54868765714286, 183.34892, 171.66768000000005, 3.942611829644545, -202.68256982857142, -190.21356, -207.67868, 11.726205541439631, 128.1788117142857, 148.47475, 117.22377, 3.0375004020072036, 318.5005502571429, 321.21298, 312.62277, 1.9623898326810312, -73.75599082857143, -68.30341, -76.80075, 0.8474273160899556, 42.51866005714286, 43.69085, 40.19241, 110.05933341378295, 101.15322092857143, 224.12888, -42.22692, 26.48616161811598, 119.01121595714285, 163.94468999999995, 89.77017, 6.403634736658597, 660.9753018571429, 669.8851900000002, 649.01825, 56.18551054440911, 100.34263188571428, 164.72581, 31.14974, 17.881666096493742, 50.64154231428572, 80.9948, 25.52224, 5.009181649015057, 438.89203851428573, 445.46942, 426.28516, 47.34506649755174, 23.38101724285714, 80.76588000000002, -32.14015, 9.34826256748986, 120.54258174285712, 128.63779, 97.52364, 16.453120153335927, 310.2965997857143, 331.1861600000001, 291.0929, 6.265801341011466, -47.85869648571428, -38.5284, -55.24596, 14.571473447741978, 52.294163485714286, 75.97282, 36.76207, 27.101229824433204, 108.86914622857144, 143.5287, 81.28471, 4.995676410292637, -32.788726800000006, -24.69754, -39.30583, 14.302352375248955, -4.976429971428573, 18.18412, -20.748, 25.907438171844383, 127.21185622857143, 160.82451, 100.19796, 2.861355811825395, 56.17785405714285, 60.94432, 51.38064, 1.1439935546432007, 150.83046320000003, 152.98026000000004, 148.82169, 0.7182141134835708, 43.24584554285714, 44.74584, 42.2254, 38.64921984211409, 158.42156334285716, 203.92427, 107.67607, 25.423881094029756, -84.77673214285714, -33.33878, -111.12225, 5.016675702269757, 435.5358289428571, 441.84692, 424.2627, 4.146589564147291, 229.88322045714287, 237.46677000000003, 225.26634, 3.3728218853982166, -200.74207859999999, -190.39871, -205.51462, 14.028554786047875, 91.82963971428572, 114.34045, 80.31922, 76.15216396439463, 16.301592914285717, 105.85363, -74.63020999999998, 12.36610898140294, 121.56801625714286, 131.53735, 90.97288, 16.665893925119885, 467.73886131428566, 488.74734000000007, 449.24762, 5.376416369422279, 37.19080505714286, 45.49503, 30.42791, 8.113995640219652, 27.67253817142857, 38.62519, 16.64987, 14.805704075049427, 116.82128177142856, 136.76285, 99.17913]\n"
     ]
    }
   ],
   "source": [
    "print(train_features_list[783])\n"
   ]
  },
  {
   "cell_type": "markdown",
   "metadata": {
    "id": "aa-covuNHXha"
   },
   "source": [
    "# Testing"
   ]
  },
  {
   "cell_type": "code",
   "execution_count": 12,
   "metadata": {
    "executionInfo": {
     "elapsed": 253868,
     "status": "ok",
     "timestamp": 1619754125450,
     "user": {
      "displayName": "Nhật Tân Lê",
      "photoUrl": "",
      "userId": "10252455260261302381"
     },
     "user_tz": -540
    },
    "id": "Qg5skflAHlhh"
   },
   "outputs": [],
   "source": [
    "from sklearn.metrics import classification_report\n",
    "from sklearn.metrics import confusion_matrix\n"
   ]
  },
  {
   "cell_type": "code",
   "execution_count": 13,
   "metadata": {
    "colab": {
     "base_uri": "https://localhost:8080/"
    },
    "executionInfo": {
     "elapsed": 254357,
     "status": "ok",
     "timestamp": 1619754125944,
     "user": {
      "displayName": "Nhật Tân Lê",
      "photoUrl": "",
      "userId": "10252455260261302381"
     },
     "user_tz": -540
    },
    "id": "sq593cnBHf5j",
    "outputId": "13c13aec-750d-4f99-9715-7533e9b93774"
   },
   "outputs": [
    {
     "name": "stdout",
     "output_type": "stream",
     "text": [
      "              precision    recall  f1-score   support\n",
      "\n",
      "           1       0.79      0.05      0.10       203\n",
      "           2       0.78      0.04      0.07       193\n",
      "           3       0.00      0.00      0.00       192\n",
      "           4       0.20      0.54      0.30       190\n",
      "           5       0.38      0.62      0.47       191\n",
      "           6       0.80      0.04      0.08       276\n",
      "           7       0.07      0.01      0.02       218\n",
      "           8       0.00      0.00      0.00       221\n",
      "           9       0.18      1.00      0.31       222\n",
      "          10       0.00      0.00      0.00       200\n",
      "\n",
      "    accuracy                           0.23      2106\n",
      "   macro avg       0.32      0.23      0.13      2106\n",
      "weighted avg       0.33      0.23      0.13      2106\n",
      "\n"
     ]
    },
    {
     "name": "stderr",
     "output_type": "stream",
     "text": [
      "/usr/local/lib/python3.7/dist-packages/sklearn/metrics/_classification.py:1272: UndefinedMetricWarning: Precision and F-score are ill-defined and being set to 0.0 in labels with no predicted samples. Use `zero_division` parameter to control this behavior.\n",
      "  _warn_prf(average, modifier, msg_start, len(result))\n"
     ]
    },
    {
     "data": {
      "text/plain": [
       "array([[ 11,   2,   0, 154,   6,   0,   5,   0,  25,   0],\n",
       "       [  0,   7,   0,  27, 141,   0,   2,   0,  16,   0],\n",
       "       [  3,   0,   0, 149,  22,   0,   2,   0,  16,   0],\n",
       "       [  0,   0,   0, 103,  27,   0,   1,   0,  59,   0],\n",
       "       [  0,   0,   0,  36, 119,   0,   0,   0,  36,   0],\n",
       "       [  0,   0,   0,  35,   0,  12,  14,   0, 214,   1],\n",
       "       [  0,   0,   0,   0,   0,   2,   2,   0, 214,   0],\n",
       "       [  0,   0,   0,   0,   0,   0,   3,   0, 201,  17],\n",
       "       [  0,   0,   0,   0,   0,   1,   0,   0, 221,   0],\n",
       "       [  0,   0,   0,   0,   0,   0,   0,   0, 200,   0]])"
      ]
     },
     "execution_count": 13,
     "metadata": {
      "tags": []
     },
     "output_type": "execute_result"
    }
   ],
   "source": [
    "y_predict = model_ml.predict(test_features_list)\n",
    "print(classification_report(test_label_list,y_predict))\n",
    "confusion_matrix(test_label_list, y_predict)\n"
   ]
  }
 ],
 "metadata": {
  "colab": {
   "authorship_tag": "ABX9TyOqIBSA9dqjFO8kfL9L/uGT",
   "mount_file_id": "1b4dZ8mhtWkMqe4ulVFLReKGviuFo5Qp2",
   "name": "IC2021.ipynb",
   "provenance": [],
   "toc_visible": true
  },
  "kernelspec": {
   "display_name": "Python 3 (ipykernel)",
   "language": "python",
   "name": "python3"
  },
  "language_info": {
   "codemirror_mode": {
    "name": "ipython",
    "version": 3
   },
   "file_extension": ".py",
   "mimetype": "text/x-python",
   "name": "python",
   "nbconvert_exporter": "python",
   "pygments_lexer": "ipython3",
   "version": "3.8.5"
  }
 },
 "nbformat": 4,
 "nbformat_minor": 1
}
